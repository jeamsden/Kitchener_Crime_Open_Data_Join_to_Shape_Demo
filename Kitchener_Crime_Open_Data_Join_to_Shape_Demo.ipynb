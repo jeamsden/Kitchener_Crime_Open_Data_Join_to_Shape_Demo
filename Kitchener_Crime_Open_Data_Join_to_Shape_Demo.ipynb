{
  "nbformat": 4,
  "nbformat_minor": 0,
  "metadata": {
    "colab": {
      "name": "Kitchener Crime Open Data Join to Shape Demo.ipynb",
      "version": "0.3.2",
      "provenance": [],
      "collapsed_sections": [],
      "include_colab_link": true
    },
    "language_info": {
      "codemirror_mode": {
        "name": "ipython",
        "version": 3
      },
      "file_extension": ".py",
      "mimetype": "text/x-python",
      "name": "python",
      "nbconvert_exporter": "python",
      "pygments_lexer": "ipython3",
      "version": "3.6.5"
    },
    "kernelspec": {
      "display_name": "Python 3",
      "language": "python",
      "name": "python3"
    }
  },
  "cells": [
    {
      "cell_type": "markdown",
      "metadata": {
        "id": "view-in-github",
        "colab_type": "text"
      },
      "source": [
        "<a href=\"https://colab.research.google.com/github/jeamsden/Kitchener_Crime_Open_Data_Join_to_Shape_Demo/blob/master/Kitchener_Crime_Open_Data_Join_to_Shape_Demo.ipynb\" target=\"_parent\"><img src=\"https://colab.research.google.com/assets/colab-badge.svg\" alt=\"Open In Colab\"/></a>"
      ]
    },
    {
      "cell_type": "code",
      "metadata": {
        "id": "H5rKrxgq1bKm",
        "colab_type": "code",
        "outputId": "a0a3fa13-2552-40f3-94a4-0f67914bcea5",
        "colab": {
          "base_uri": "https://localhost:8080/",
          "height": 8721
        }
      },
      "source": [
        "%%time \n",
        "!apt update\n",
        "!apt upgrade\n",
        "!apt install gdal-bin python-gdal python3-gdal \n",
        "# Install rtree - Geopandas requirment\n",
        "!apt install python3-rtree \n",
        "# Install Geopandas\n",
        "!pip install git+git://github.com/geopandas/geopandas.git\n",
        "# Install descartes - Geopandas requirment\n",
        "!pip install descartes "
      ],
      "execution_count": 0,
      "outputs": [
        {
          "output_type": "stream",
          "text": [
            "\u001b[33m\r0% [Working]\u001b[0m\r            \rIgn:1 https://developer.download.nvidia.com/compute/cuda/repos/ubuntu1804/x86_64  InRelease\n",
            "\u001b[33m\r0% [Connecting to archive.ubuntu.com (91.189.88.162)] [Waiting for headers] [Wa\u001b[0m\r                                                                               \rGet:2 http://security.ubuntu.com/ubuntu bionic-security InRelease [88.7 kB]\n",
            "\u001b[33m\r0% [Connecting to archive.ubuntu.com (91.189.88.162)] [2 InRelease 2,589 B/88.7\u001b[0m\r                                                                               \rGet:3 https://cloud.r-project.org/bin/linux/ubuntu bionic-cran35/ InRelease [3,626 B]\n",
            "\u001b[33m\r0% [Connecting to archive.ubuntu.com (91.189.88.162)] [2 InRelease 2,589 B/88.7\u001b[0m\u001b[33m\r0% [Connecting to archive.ubuntu.com (91.189.88.162)] [2 InRelease 11.3 kB/88.7\u001b[0m\u001b[33m\r0% [3 InRelease gpgv 3,626 B] [Connecting to archive.ubuntu.com (91.189.88.162)\u001b[0m\r                                                                               \rIgn:4 https://developer.download.nvidia.com/compute/machine-learning/repos/ubuntu1804/x86_64  InRelease\n",
            "Hit:5 https://developer.download.nvidia.com/compute/cuda/repos/ubuntu1804/x86_64  Release\n",
            "Hit:6 https://developer.download.nvidia.com/compute/machine-learning/repos/ubuntu1804/x86_64  Release\n",
            "Get:7 http://ppa.launchpad.net/graphics-drivers/ppa/ubuntu bionic InRelease [21.3 kB]\n",
            "Hit:8 http://archive.ubuntu.com/ubuntu bionic InRelease\n",
            "Get:9 http://archive.ubuntu.com/ubuntu bionic-updates InRelease [88.7 kB]\n",
            "Get:10 https://cloud.r-project.org/bin/linux/ubuntu bionic-cran35/ Packages [58.0 kB]\n",
            "Get:11 http://ppa.launchpad.net/marutter/c2d4u3.5/ubuntu bionic InRelease [15.4 kB]\n",
            "Get:13 http://archive.ubuntu.com/ubuntu bionic-backports InRelease [74.6 kB]\n",
            "Get:15 http://security.ubuntu.com/ubuntu bionic-security/multiverse amd64 Packages [4,169 B]\n",
            "Get:16 http://security.ubuntu.com/ubuntu bionic-security/main amd64 Packages [494 kB]\n",
            "Get:17 http://security.ubuntu.com/ubuntu bionic-security/universe amd64 Packages [326 kB]\n",
            "Get:18 http://ppa.launchpad.net/graphics-drivers/ppa/ubuntu bionic/main amd64 Packages [33.0 kB]\n",
            "Get:19 http://archive.ubuntu.com/ubuntu bionic-updates/multiverse amd64 Packages [7,239 B]\n",
            "Get:20 http://ppa.launchpad.net/marutter/c2d4u3.5/ubuntu bionic/main Sources [1,647 kB]\n",
            "Get:21 http://archive.ubuntu.com/ubuntu bionic-updates/universe amd64 Packages [1,213 kB]\n",
            "Get:22 http://archive.ubuntu.com/ubuntu bionic-updates/main amd64 Packages [837 kB]\n",
            "Get:23 http://archive.ubuntu.com/ubuntu bionic-backports/universe amd64 Packages [3,902 B]\n",
            "Get:24 http://ppa.launchpad.net/marutter/c2d4u3.5/ubuntu bionic/main amd64 Packages [791 kB]\n",
            "Fetched 5,707 kB in 5s (1,101 kB/s)\n",
            "Reading package lists... Done\n",
            "Building dependency tree       \n",
            "Reading state information... Done\n",
            "85 packages can be upgraded. Run 'apt list --upgradable' to see them.\n",
            "Reading package lists... Done\n",
            "Building dependency tree       \n",
            "Reading state information... Done\n",
            "Calculating upgrade... Done\n",
            "The following packages were automatically installed and are no longer required:\n",
            "  libnvidia-common-410 linux-headers-4.15.0-50 linux-headers-4.15.0-50-generic\n",
            "Use 'apt autoremove' to remove them.\n",
            "The following NEW packages will be installed:\n",
            "  linux-headers-4.15.0-51 linux-headers-4.15.0-51-generic\n",
            "The following packages have been kept back:\n",
            "  libcudnn7 libcudnn7-dev libnccl-dev libnccl2\n",
            "The following packages will be upgraded:\n",
            "  apt apt-utils bash dbus debconf libapt-inst2.0 libapt-pkg5.0 libcups2\n",
            "  libdb5.3 libdbus-1-3 libegl1 libelf1 libgl1 libgles1 libgles2 libglib2.0-0\n",
            "  libglib2.0-bin libglib2.0-data libglib2.0-dev libglib2.0-dev-bin\n",
            "  libglvnd-core-dev libglvnd-dev libglvnd0 libglx0 libgnutls30 libopengl0\n",
            "  libpam-systemd libpython2.7 libpython2.7-dev libpython2.7-minimal\n",
            "  libpython2.7-stdlib libpython3.6 libpython3.6-dev libpython3.6-minimal\n",
            "  libpython3.6-stdlib libqt5concurrent5 libqt5core5a libqt5dbus5 libqt5gui5\n",
            "  libqt5network5 libqt5printsupport5 libqt5sql5 libqt5test5 libqt5widgets5\n",
            "  libqt5xml5 libseccomp2 libsndfile1 libsndfile1-dev libssl-dev libssl1.1\n",
            "  libsystemd0 libudev1 linux-headers-generic linux-libc-dev littler openssl\n",
            "  python-tk python2.7 python2.7-dev python2.7-minimal python3-distutils\n",
            "  python3-lib2to3 python3-tk python3.6 python3.6-dev python3.6-minimal\n",
            "  qt5-default qt5-qmake qt5-qmake-bin qtbase5-dev qtbase5-dev-tools\n",
            "  r-cran-cluster r-cran-dbplyr r-cran-evaluate r-cran-littler r-cran-openssl\n",
            "  r-cran-pillar r-cran-tibble systemd systemd-sysv udev\n",
            "81 upgraded, 2 newly installed, 0 to remove and 4 not upgraded.\n",
            "Need to get 127 MB of archives.\n",
            "After this operation, 91.9 MB of additional disk space will be used.\n",
            "Get:1 http://archive.ubuntu.com/ubuntu bionic-updates/main amd64 bash amd64 4.4.18-2ubuntu1.1 [615 kB]\n",
            "Get:2 http://ppa.launchpad.net/marutter/c2d4u3.5/ubuntu bionic/main amd64 r-cran-pillar all 1.4.1-1cran1ppabionic0 [175 kB]\n",
            "Get:3 https://cloud.r-project.org/bin/linux/ubuntu bionic-cran35/ r-cran-littler 0.3.8-1bionic0 [310 kB]\n",
            "Get:4 https://cloud.r-project.org/bin/linux/ubuntu bionic-cran35/ littler 0.3.8-1bionic0 [14.2 kB]\n",
            "Get:5 https://cloud.r-project.org/bin/linux/ubuntu bionic-cran35/ r-cran-cluster 2.0.9-1bionic0 [525 kB]\n",
            "Get:6 http://ppa.launchpad.net/marutter/c2d4u3.5/ubuntu bionic/main amd64 r-cran-tibble amd64 2.1.3-1cran1ppabionic0 [302 kB]\n",
            "Get:7 http://archive.ubuntu.com/ubuntu bionic-updates/main amd64 dbus amd64 1.12.2-1ubuntu1.1 [150 kB]\n",
            "Get:8 http://archive.ubuntu.com/ubuntu bionic-updates/main amd64 libdbus-1-3 amd64 1.12.2-1ubuntu1.1 [175 kB]\n",
            "Get:9 http://archive.ubuntu.com/ubuntu bionic-updates/main amd64 systemd-sysv amd64 237-3ubuntu10.22 [11.7 kB]\n",
            "Get:10 http://archive.ubuntu.com/ubuntu bionic-updates/main amd64 libpam-systemd amd64 237-3ubuntu10.22 [108 kB]\n",
            "Get:11 http://archive.ubuntu.com/ubuntu bionic-updates/main amd64 libsystemd0 amd64 237-3ubuntu10.22 [204 kB]\n",
            "Get:12 http://archive.ubuntu.com/ubuntu bionic-updates/main amd64 systemd amd64 237-3ubuntu10.22 [2,901 kB]\n",
            "Get:13 http://archive.ubuntu.com/ubuntu bionic-updates/main amd64 udev amd64 237-3ubuntu10.22 [1,101 kB]\n",
            "Get:14 http://archive.ubuntu.com/ubuntu bionic-updates/main amd64 libudev1 amd64 237-3ubuntu10.22 [53.8 kB]\n",
            "Get:15 http://archive.ubuntu.com/ubuntu bionic-updates/main amd64 libapt-pkg5.0 amd64 1.6.11 [806 kB]\n",
            "Get:16 http://archive.ubuntu.com/ubuntu bionic-updates/main amd64 libapt-inst2.0 amd64 1.6.11 [55.6 kB]\n",
            "Get:17 http://archive.ubuntu.com/ubuntu bionic-updates/main amd64 libdb5.3 amd64 5.3.28-13.1ubuntu1.1 [672 kB]\n",
            "Get:18 http://archive.ubuntu.com/ubuntu bionic-updates/main amd64 apt amd64 1.6.11 [1,166 kB]\n",
            "Get:19 http://archive.ubuntu.com/ubuntu bionic-updates/main amd64 apt-utils amd64 1.6.11 [206 kB]\n",
            "Get:20 http://archive.ubuntu.com/ubuntu bionic-updates/main amd64 libgnutls30 amd64 3.5.18-1ubuntu1.1 [645 kB]\n",
            "Get:21 http://archive.ubuntu.com/ubuntu bionic-updates/main amd64 libseccomp2 amd64 2.4.1-0ubuntu0.18.04.2 [39.1 kB]\n",
            "Get:22 http://archive.ubuntu.com/ubuntu bionic-updates/main amd64 debconf all 1.5.66ubuntu1 [124 kB]\n",
            "Get:23 http://archive.ubuntu.com/ubuntu bionic-updates/main amd64 python3.6-dev amd64 3.6.8-1~18.04.1 [508 kB]\n",
            "Get:24 http://archive.ubuntu.com/ubuntu bionic-updates/main amd64 libpython3.6-dev amd64 3.6.8-1~18.04.1 [44.8 MB]\n",
            "Get:25 http://ppa.launchpad.net/marutter/c2d4u3.5/ubuntu bionic/main amd64 r-cran-dbplyr all 1.4.1-1cran1ppabionic0 [555 kB]\n",
            "Get:26 http://archive.ubuntu.com/ubuntu bionic-updates/main amd64 libpython3.6 amd64 3.6.8-1~18.04.1 [1,418 kB]\n",
            "Get:27 http://archive.ubuntu.com/ubuntu bionic-updates/main amd64 python3-lib2to3 all 3.6.8-1~18.04 [76.5 kB]\n",
            "Get:28 http://archive.ubuntu.com/ubuntu bionic-updates/main amd64 python3-tk amd64 3.6.8-1~18.04 [101 kB]\n",
            "Get:29 http://archive.ubuntu.com/ubuntu bionic-updates/main amd64 python3.6 amd64 3.6.8-1~18.04.1 [202 kB]\n",
            "Get:30 http://archive.ubuntu.com/ubuntu bionic-updates/main amd64 libpython3.6-stdlib amd64 3.6.8-1~18.04.1 [1,715 kB]\n",
            "Get:31 http://archive.ubuntu.com/ubuntu bionic-updates/main amd64 python3-distutils all 3.6.8-1~18.04 [141 kB]\n",
            "Get:32 http://archive.ubuntu.com/ubuntu bionic-updates/main amd64 libssl-dev amd64 1.1.1-1ubuntu2.1~18.04.1 [1,566 kB]\n",
            "Get:33 http://archive.ubuntu.com/ubuntu bionic-updates/main amd64 libssl1.1 amd64 1.1.1-1ubuntu2.1~18.04.1 [1,295 kB]\n",
            "Get:34 http://archive.ubuntu.com/ubuntu bionic-updates/main amd64 python3.6-minimal amd64 3.6.8-1~18.04.1 [1,620 kB]\n",
            "Get:35 http://archive.ubuntu.com/ubuntu bionic-updates/main amd64 libpython3.6-minimal amd64 3.6.8-1~18.04.1 [533 kB]\n",
            "Get:36 http://archive.ubuntu.com/ubuntu bionic-updates/main amd64 python2.7-dev amd64 2.7.15-4ubuntu4~18.04 [278 kB]\n",
            "Get:37 http://archive.ubuntu.com/ubuntu bionic-updates/main amd64 libpython2.7-dev amd64 2.7.15-4ubuntu4~18.04 [28.3 MB]\n",
            "Get:38 http://ppa.launchpad.net/marutter/c2d4u3.5/ubuntu bionic/main amd64 r-cran-evaluate all 0.14-1cran1ppabionic0 [75.2 kB]\n",
            "Get:39 http://ppa.launchpad.net/marutter/c2d4u3.5/ubuntu bionic/main amd64 r-cran-openssl amd64 1.4-1cran1ppabionic0 [586 kB]\n",
            "Get:40 http://archive.ubuntu.com/ubuntu bionic-updates/main amd64 libpython2.7 amd64 2.7.15-4ubuntu4~18.04 [1,053 kB]\n",
            "Get:41 http://archive.ubuntu.com/ubuntu bionic-updates/main amd64 python2.7 amd64 2.7.15-4ubuntu4~18.04 [239 kB]\n",
            "Get:42 http://archive.ubuntu.com/ubuntu bionic-updates/main amd64 libpython2.7-stdlib amd64 2.7.15-4ubuntu4~18.04 [1,915 kB]\n",
            "Get:43 http://archive.ubuntu.com/ubuntu bionic-updates/main amd64 python2.7-minimal amd64 2.7.15-4ubuntu4~18.04 [1,295 kB]\n",
            "Get:44 http://archive.ubuntu.com/ubuntu bionic-updates/main amd64 libpython2.7-minimal amd64 2.7.15-4ubuntu4~18.04 [335 kB]\n",
            "Get:45 http://archive.ubuntu.com/ubuntu bionic-updates/main amd64 libelf1 amd64 0.170-0.4ubuntu0.1 [44.8 kB]\n",
            "Get:46 http://archive.ubuntu.com/ubuntu bionic-updates/main amd64 libglib2.0-dev amd64 2.56.4-0ubuntu0.18.04.3 [1,384 kB]\n",
            "Get:47 http://archive.ubuntu.com/ubuntu bionic-updates/main amd64 libglib2.0-dev-bin amd64 2.56.4-0ubuntu0.18.04.3 [102 kB]\n",
            "Get:48 http://archive.ubuntu.com/ubuntu bionic-updates/main amd64 libglib2.0-data all 2.56.4-0ubuntu0.18.04.3 [4,608 B]\n",
            "Get:49 http://archive.ubuntu.com/ubuntu bionic-updates/main amd64 libglib2.0-bin amd64 2.56.4-0ubuntu0.18.04.3 [68.8 kB]\n",
            "Get:50 http://archive.ubuntu.com/ubuntu bionic-updates/main amd64 libglib2.0-0 amd64 2.56.4-0ubuntu0.18.04.3 [1,169 kB]\n",
            "Get:51 http://archive.ubuntu.com/ubuntu bionic-updates/main amd64 openssl amd64 1.1.1-1ubuntu2.1~18.04.1 [614 kB]\n",
            "Get:52 http://archive.ubuntu.com/ubuntu bionic-updates/main amd64 libcups2 amd64 2.2.7-1ubuntu2.6 [211 kB]\n",
            "Get:53 http://archive.ubuntu.com/ubuntu bionic-updates/main amd64 libglvnd-dev amd64 1.0.0-2ubuntu2.3 [3,416 B]\n",
            "Get:54 http://archive.ubuntu.com/ubuntu bionic-updates/main amd64 libglvnd-core-dev amd64 1.0.0-2ubuntu2.3 [12.8 kB]\n",
            "Get:55 http://archive.ubuntu.com/ubuntu bionic-updates/main amd64 libopengl0 amd64 1.0.0-2ubuntu2.3 [31.3 kB]\n",
            "Get:56 http://archive.ubuntu.com/ubuntu bionic-updates/main amd64 libgl1 amd64 1.0.0-2ubuntu2.3 [86.2 kB]\n",
            "Get:57 http://archive.ubuntu.com/ubuntu bionic-updates/main amd64 libglx0 amd64 1.0.0-2ubuntu2.3 [28.1 kB]\n",
            "Get:58 http://archive.ubuntu.com/ubuntu bionic-updates/main amd64 libgles2 amd64 1.0.0-2ubuntu2.3 [17.3 kB]\n",
            "Get:59 http://archive.ubuntu.com/ubuntu bionic-updates/main amd64 libegl1 amd64 1.0.0-2ubuntu2.3 [32.0 kB]\n",
            "Get:60 http://archive.ubuntu.com/ubuntu bionic-updates/main amd64 libgles1 amd64 1.0.0-2ubuntu2.3 [11.2 kB]\n",
            "Get:61 http://archive.ubuntu.com/ubuntu bionic-updates/main amd64 libglvnd0 amd64 1.0.0-2ubuntu2.3 [47.0 kB]\n",
            "Get:62 http://archive.ubuntu.com/ubuntu bionic-updates/main amd64 qtbase5-dev amd64 5.9.5+dfsg-0ubuntu2.1 [942 kB]\n",
            "Get:63 http://archive.ubuntu.com/ubuntu bionic-updates/main amd64 libqt5core5a amd64 5.9.5+dfsg-0ubuntu2.1 [2,037 kB]\n",
            "Get:64 http://archive.ubuntu.com/ubuntu bionic-updates/main amd64 libqt5dbus5 amd64 5.9.5+dfsg-0ubuntu2.1 [196 kB]\n",
            "Get:65 http://archive.ubuntu.com/ubuntu bionic-updates/main amd64 libqt5network5 amd64 5.9.5+dfsg-0ubuntu2.1 [635 kB]\n",
            "Get:66 http://archive.ubuntu.com/ubuntu bionic-updates/main amd64 libqt5gui5 amd64 5.9.5+dfsg-0ubuntu2.1 [2,564 kB]\n",
            "Get:67 http://archive.ubuntu.com/ubuntu bionic-updates/main amd64 libqt5widgets5 amd64 5.9.5+dfsg-0ubuntu2.1 [2,202 kB]\n",
            "Get:68 http://archive.ubuntu.com/ubuntu bionic-updates/main amd64 libqt5printsupport5 amd64 5.9.5+dfsg-0ubuntu2.1 [178 kB]\n",
            "Get:69 http://archive.ubuntu.com/ubuntu bionic-updates/main amd64 libqt5sql5 amd64 5.9.5+dfsg-0ubuntu2.1 [115 kB]\n",
            "Get:70 http://archive.ubuntu.com/ubuntu bionic-updates/main amd64 libqt5test5 amd64 5.9.5+dfsg-0ubuntu2.1 [98.0 kB]\n",
            "Get:71 http://archive.ubuntu.com/ubuntu bionic-updates/main amd64 libqt5xml5 amd64 5.9.5+dfsg-0ubuntu2.1 [99.8 kB]\n",
            "Get:72 http://archive.ubuntu.com/ubuntu bionic-updates/main amd64 qt5-qmake amd64 5.9.5+dfsg-0ubuntu2.1 [180 kB]\n",
            "Get:73 http://archive.ubuntu.com/ubuntu bionic-updates/main amd64 qt5-qmake-bin amd64 5.9.5+dfsg-0ubuntu2.1 [938 kB]\n",
            "Get:74 http://archive.ubuntu.com/ubuntu bionic-updates/main amd64 qtbase5-dev-tools amd64 5.9.5+dfsg-0ubuntu2.1 [723 kB]\n",
            "Get:75 http://archive.ubuntu.com/ubuntu bionic-updates/main amd64 libqt5concurrent5 amd64 5.9.5+dfsg-0ubuntu2.1 [29.8 kB]\n",
            "Get:76 http://archive.ubuntu.com/ubuntu bionic-updates/main amd64 libsndfile1-dev amd64 1.0.28-4ubuntu0.18.04.1 [287 kB]\n",
            "Get:77 http://archive.ubuntu.com/ubuntu bionic-updates/main amd64 libsndfile1 amd64 1.0.28-4ubuntu0.18.04.1 [170 kB]\n",
            "Get:78 http://archive.ubuntu.com/ubuntu bionic-updates/main amd64 linux-headers-4.15.0-51 all 4.15.0-51.55 [11.0 MB]\n",
            "Get:79 http://archive.ubuntu.com/ubuntu bionic-updates/main amd64 linux-headers-4.15.0-51-generic amd64 4.15.0-51.55 [1,111 kB]\n",
            "Get:80 http://archive.ubuntu.com/ubuntu bionic-updates/main amd64 linux-headers-generic amd64 4.15.0.51.53 [2,476 B]\n",
            "Get:81 http://archive.ubuntu.com/ubuntu bionic-updates/main amd64 linux-libc-dev amd64 4.15.0-51.55 [1,005 kB]\n",
            "Get:82 http://archive.ubuntu.com/ubuntu bionic-updates/main amd64 python-tk amd64 2.7.16-2~18.04 [26.0 kB]\n",
            "Get:83 http://archive.ubuntu.com/ubuntu bionic-updates/universe amd64 qt5-default amd64 5.9.5+dfsg-0ubuntu2.1 [20.9 kB]\n",
            "Fetched 127 MB in 8s (16.9 MB/s)\n",
            "Extracting templates from packages: 100%\n",
            "Preconfiguring packages ...\n",
            "(Reading database ... 130912 files and directories currently installed.)\n",
            "Preparing to unpack .../bash_4.4.18-2ubuntu1.1_amd64.deb ...\n",
            "Unpacking bash (4.4.18-2ubuntu1.1) over (4.4.18-2ubuntu1) ...\n",
            "Setting up bash (4.4.18-2ubuntu1.1) ...\n",
            "update-alternatives: using /usr/share/man/man7/bash-builtins.7.gz to provide /usr/share/man/man7/builtins.7.gz (builtins.7.gz) in auto mode\n",
            "(Reading database ... 130912 files and directories currently installed.)\n",
            "Preparing to unpack .../dbus_1.12.2-1ubuntu1.1_amd64.deb ...\n",
            "Unpacking dbus (1.12.2-1ubuntu1.1) over (1.12.2-1ubuntu1) ...\n",
            "Preparing to unpack .../libdbus-1-3_1.12.2-1ubuntu1.1_amd64.deb ...\n",
            "Unpacking libdbus-1-3:amd64 (1.12.2-1ubuntu1.1) over (1.12.2-1ubuntu1) ...\n",
            "Preparing to unpack .../systemd-sysv_237-3ubuntu10.22_amd64.deb ...\n",
            "Unpacking systemd-sysv (237-3ubuntu10.22) over (237-3ubuntu10.21) ...\n",
            "Preparing to unpack .../libpam-systemd_237-3ubuntu10.22_amd64.deb ...\n",
            "Unpacking libpam-systemd:amd64 (237-3ubuntu10.22) over (237-3ubuntu10.21) ...\n",
            "Preparing to unpack .../libsystemd0_237-3ubuntu10.22_amd64.deb ...\n",
            "Unpacking libsystemd0:amd64 (237-3ubuntu10.22) over (237-3ubuntu10.21) ...\n",
            "Setting up libsystemd0:amd64 (237-3ubuntu10.22) ...\n",
            "(Reading database ... 130912 files and directories currently installed.)\n",
            "Preparing to unpack .../systemd_237-3ubuntu10.22_amd64.deb ...\n",
            "Unpacking systemd (237-3ubuntu10.22) over (237-3ubuntu10.21) ...\n",
            "Preparing to unpack .../udev_237-3ubuntu10.22_amd64.deb ...\n",
            "Unpacking udev (237-3ubuntu10.22) over (237-3ubuntu10.21) ...\n",
            "Preparing to unpack .../libudev1_237-3ubuntu10.22_amd64.deb ...\n",
            "Unpacking libudev1:amd64 (237-3ubuntu10.22) over (237-3ubuntu10.21) ...\n",
            "Setting up libudev1:amd64 (237-3ubuntu10.22) ...\n",
            "(Reading database ... 130912 files and directories currently installed.)\n",
            "Preparing to unpack .../libapt-pkg5.0_1.6.11_amd64.deb ...\n",
            "Unpacking libapt-pkg5.0:amd64 (1.6.11) over (1.6.10) ...\n",
            "Setting up libapt-pkg5.0:amd64 (1.6.11) ...\n",
            "(Reading database ... 130912 files and directories currently installed.)\n",
            "Preparing to unpack .../libapt-inst2.0_1.6.11_amd64.deb ...\n",
            "Unpacking libapt-inst2.0:amd64 (1.6.11) over (1.6.10) ...\n",
            "Preparing to unpack .../libdb5.3_5.3.28-13.1ubuntu1.1_amd64.deb ...\n",
            "Unpacking libdb5.3:amd64 (5.3.28-13.1ubuntu1.1) over (5.3.28-13.1ubuntu1) ...\n",
            "Setting up libdb5.3:amd64 (5.3.28-13.1ubuntu1.1) ...\n",
            "(Reading database ... 130912 files and directories currently installed.)\n",
            "Preparing to unpack .../archives/apt_1.6.11_amd64.deb ...\n",
            "Unpacking apt (1.6.11) over (1.6.10) ...\n",
            "Setting up apt (1.6.11) ...\n",
            "Installing new version of config file /etc/apt/apt.conf.d/01autoremove ...\n",
            "(Reading database ... 130912 files and directories currently installed.)\n",
            "Preparing to unpack .../apt-utils_1.6.11_amd64.deb ...\n",
            "Unpacking apt-utils (1.6.11) over (1.6.10) ...\n",
            "Preparing to unpack .../libgnutls30_3.5.18-1ubuntu1.1_amd64.deb ...\n",
            "Unpacking libgnutls30:amd64 (3.5.18-1ubuntu1.1) over (3.5.18-1ubuntu1) ...\n",
            "Setting up libgnutls30:amd64 (3.5.18-1ubuntu1.1) ...\n",
            "(Reading database ... 130912 files and directories currently installed.)\n",
            "Preparing to unpack .../libseccomp2_2.4.1-0ubuntu0.18.04.2_amd64.deb ...\n",
            "Unpacking libseccomp2:amd64 (2.4.1-0ubuntu0.18.04.2) over (2.3.1-2.1ubuntu4.1) ...\n",
            "Setting up libseccomp2:amd64 (2.4.1-0ubuntu0.18.04.2) ...\n",
            "(Reading database ... 130912 files and directories currently installed.)\n",
            "Preparing to unpack .../debconf_1.5.66ubuntu1_all.deb ...\n",
            "Unpacking debconf (1.5.66ubuntu1) over (1.5.66) ...\n",
            "Setting up debconf (1.5.66ubuntu1) ...\n",
            "(Reading database ... 130912 files and directories currently installed.)\n",
            "Preparing to unpack .../00-python3.6-dev_3.6.8-1~18.04.1_amd64.deb ...\n",
            "Unpacking python3.6-dev (3.6.8-1~18.04.1) over (3.6.7-1~18.04) ...\n",
            "Preparing to unpack .../01-libpython3.6-dev_3.6.8-1~18.04.1_amd64.deb ...\n",
            "Unpacking libpython3.6-dev:amd64 (3.6.8-1~18.04.1) over (3.6.7-1~18.04) ...\n",
            "Preparing to unpack .../02-libpython3.6_3.6.8-1~18.04.1_amd64.deb ...\n",
            "Unpacking libpython3.6:amd64 (3.6.8-1~18.04.1) over (3.6.7-1~18.04) ...\n",
            "Preparing to unpack .../03-python3-lib2to3_3.6.8-1~18.04_all.deb ...\n",
            "Unpacking python3-lib2to3 (3.6.8-1~18.04) over (3.6.7-1~18.04) ...\n",
            "Preparing to unpack .../04-python3-tk_3.6.8-1~18.04_amd64.deb ...\n",
            "Unpacking python3-tk:amd64 (3.6.8-1~18.04) over (3.6.7-1~18.04) ...\n",
            "Preparing to unpack .../05-python3.6_3.6.8-1~18.04.1_amd64.deb ...\n",
            "Unpacking python3.6 (3.6.8-1~18.04.1) over (3.6.7-1~18.04) ...\n",
            "Preparing to unpack .../06-libpython3.6-stdlib_3.6.8-1~18.04.1_amd64.deb ...\n",
            "Unpacking libpython3.6-stdlib:amd64 (3.6.8-1~18.04.1) over (3.6.7-1~18.04) ...\n",
            "Preparing to unpack .../07-python3-distutils_3.6.8-1~18.04_all.deb ...\n",
            "Unpacking python3-distutils (3.6.8-1~18.04) over (3.6.7-1~18.04) ...\n",
            "Preparing to unpack .../08-libssl-dev_1.1.1-1ubuntu2.1~18.04.1_amd64.deb ...\n",
            "Unpacking libssl-dev:amd64 (1.1.1-1ubuntu2.1~18.04.1) over (1.1.0g-2ubuntu4.3) ...\n",
            "Preparing to unpack .../09-libssl1.1_1.1.1-1ubuntu2.1~18.04.1_amd64.deb ...\n",
            "Unpacking libssl1.1:amd64 (1.1.1-1ubuntu2.1~18.04.1) over (1.1.0g-2ubuntu4.3) ...\n",
            "Preparing to unpack .../10-python3.6-minimal_3.6.8-1~18.04.1_amd64.deb ...\n",
            "Unpacking python3.6-minimal (3.6.8-1~18.04.1) over (3.6.7-1~18.04) ...\n",
            "Preparing to unpack .../11-libpython3.6-minimal_3.6.8-1~18.04.1_amd64.deb ...\n",
            "Unpacking libpython3.6-minimal:amd64 (3.6.8-1~18.04.1) over (3.6.7-1~18.04) ...\n",
            "Preparing to unpack .../12-python2.7-dev_2.7.15-4ubuntu4~18.04_amd64.deb ...\n",
            "Unpacking python2.7-dev (2.7.15-4ubuntu4~18.04) over (2.7.15~rc1-1ubuntu0.1) ...\n",
            "Preparing to unpack .../13-libpython2.7-dev_2.7.15-4ubuntu4~18.04_amd64.deb ...\n",
            "Unpacking libpython2.7-dev:amd64 (2.7.15-4ubuntu4~18.04) over (2.7.15~rc1-1ubuntu0.1) ...\n",
            "Preparing to unpack .../14-libpython2.7_2.7.15-4ubuntu4~18.04_amd64.deb ...\n",
            "Unpacking libpython2.7:amd64 (2.7.15-4ubuntu4~18.04) over (2.7.15~rc1-1ubuntu0.1) ...\n",
            "Preparing to unpack .../15-python2.7_2.7.15-4ubuntu4~18.04_amd64.deb ...\n",
            "Unpacking python2.7 (2.7.15-4ubuntu4~18.04) over (2.7.15~rc1-1ubuntu0.1) ...\n",
            "Preparing to unpack .../16-libpython2.7-stdlib_2.7.15-4ubuntu4~18.04_amd64.deb ...\n",
            "Unpacking libpython2.7-stdlib:amd64 (2.7.15-4ubuntu4~18.04) over (2.7.15~rc1-1ubuntu0.1) ...\n",
            "Preparing to unpack .../17-python2.7-minimal_2.7.15-4ubuntu4~18.04_amd64.deb ...\n",
            "Unpacking python2.7-minimal (2.7.15-4ubuntu4~18.04) over (2.7.15~rc1-1ubuntu0.1) ...\n",
            "Preparing to unpack .../18-libpython2.7-minimal_2.7.15-4ubuntu4~18.04_amd64.deb ...\n",
            "Unpacking libpython2.7-minimal:amd64 (2.7.15-4ubuntu4~18.04) over (2.7.15~rc1-1ubuntu0.1) ...\n",
            "Preparing to unpack .../19-libelf1_0.170-0.4ubuntu0.1_amd64.deb ...\n",
            "Unpacking libelf1:amd64 (0.170-0.4ubuntu0.1) over (0.170-0.4) ...\n",
            "Preparing to unpack .../20-libglib2.0-dev_2.56.4-0ubuntu0.18.04.3_amd64.deb ...\n",
            "Unpacking libglib2.0-dev:amd64 (2.56.4-0ubuntu0.18.04.3) over (2.56.4-0ubuntu0.18.04.2) ...\n",
            "Preparing to unpack .../21-libglib2.0-dev-bin_2.56.4-0ubuntu0.18.04.3_amd64.deb ...\n",
            "Unpacking libglib2.0-dev-bin (2.56.4-0ubuntu0.18.04.3) over (2.56.4-0ubuntu0.18.04.2) ...\n",
            "Preparing to unpack .../22-libglib2.0-data_2.56.4-0ubuntu0.18.04.3_all.deb ...\n",
            "Unpacking libglib2.0-data (2.56.4-0ubuntu0.18.04.3) over (2.56.4-0ubuntu0.18.04.2) ...\n",
            "Preparing to unpack .../23-libglib2.0-bin_2.56.4-0ubuntu0.18.04.3_amd64.deb ...\n",
            "Unpacking libglib2.0-bin (2.56.4-0ubuntu0.18.04.3) over (2.56.4-0ubuntu0.18.04.2) ...\n",
            "Preparing to unpack .../24-libglib2.0-0_2.56.4-0ubuntu0.18.04.3_amd64.deb ...\n",
            "Unpacking libglib2.0-0:amd64 (2.56.4-0ubuntu0.18.04.3) over (2.56.4-0ubuntu0.18.04.2) ...\n",
            "Preparing to unpack .../25-openssl_1.1.1-1ubuntu2.1~18.04.1_amd64.deb ...\n",
            "Unpacking openssl (1.1.1-1ubuntu2.1~18.04.1) over (1.1.0g-2ubuntu4.3) ...\n",
            "Preparing to unpack .../26-libcups2_2.2.7-1ubuntu2.6_amd64.deb ...\n",
            "Unpacking libcups2:amd64 (2.2.7-1ubuntu2.6) over (2.2.7-1ubuntu2.5) ...\n",
            "Preparing to unpack .../27-libglvnd-dev_1.0.0-2ubuntu2.3_amd64.deb ...\n",
            "Unpacking libglvnd-dev:amd64 (1.0.0-2ubuntu2.3) over (1.0.0-2ubuntu2.2) ...\n",
            "Preparing to unpack .../28-libglvnd-core-dev_1.0.0-2ubuntu2.3_amd64.deb ...\n",
            "Unpacking libglvnd-core-dev:amd64 (1.0.0-2ubuntu2.3) over (1.0.0-2ubuntu2.2) ...\n",
            "Preparing to unpack .../29-libopengl0_1.0.0-2ubuntu2.3_amd64.deb ...\n",
            "Unpacking libopengl0:amd64 (1.0.0-2ubuntu2.3) over (1.0.0-2ubuntu2.2) ...\n",
            "Preparing to unpack .../30-libgl1_1.0.0-2ubuntu2.3_amd64.deb ...\n",
            "Unpacking libgl1:amd64 (1.0.0-2ubuntu2.3) over (1.0.0-2ubuntu2.2) ...\n",
            "Preparing to unpack .../31-libglx0_1.0.0-2ubuntu2.3_amd64.deb ...\n",
            "Unpacking libglx0:amd64 (1.0.0-2ubuntu2.3) over (1.0.0-2ubuntu2.2) ...\n",
            "Preparing to unpack .../32-libgles2_1.0.0-2ubuntu2.3_amd64.deb ...\n",
            "Unpacking libgles2:amd64 (1.0.0-2ubuntu2.3) over (1.0.0-2ubuntu2.2) ...\n",
            "Preparing to unpack .../33-libegl1_1.0.0-2ubuntu2.3_amd64.deb ...\n",
            "Unpacking libegl1:amd64 (1.0.0-2ubuntu2.3) over (1.0.0-2ubuntu2.2) ...\n",
            "Preparing to unpack .../34-libgles1_1.0.0-2ubuntu2.3_amd64.deb ...\n",
            "Unpacking libgles1:amd64 (1.0.0-2ubuntu2.3) over (1.0.0-2ubuntu2.2) ...\n",
            "Preparing to unpack .../35-libglvnd0_1.0.0-2ubuntu2.3_amd64.deb ...\n",
            "Unpacking libglvnd0:amd64 (1.0.0-2ubuntu2.3) over (1.0.0-2ubuntu2.2) ...\n",
            "Preparing to unpack .../36-qtbase5-dev_5.9.5+dfsg-0ubuntu2.1_amd64.deb ...\n",
            "Unpacking qtbase5-dev:amd64 (5.9.5+dfsg-0ubuntu2.1) over (5.9.5+dfsg-0ubuntu2) ...\n",
            "Preparing to unpack .../37-libqt5core5a_5.9.5+dfsg-0ubuntu2.1_amd64.deb ...\n",
            "Unpacking libqt5core5a:amd64 (5.9.5+dfsg-0ubuntu2.1) over (5.9.5+dfsg-0ubuntu2) ...\n",
            "Preparing to unpack .../38-libqt5dbus5_5.9.5+dfsg-0ubuntu2.1_amd64.deb ...\n",
            "Unpacking libqt5dbus5:amd64 (5.9.5+dfsg-0ubuntu2.1) over (5.9.5+dfsg-0ubuntu2) ...\n",
            "Preparing to unpack .../39-libqt5network5_5.9.5+dfsg-0ubuntu2.1_amd64.deb ...\n",
            "Unpacking libqt5network5:amd64 (5.9.5+dfsg-0ubuntu2.1) over (5.9.5+dfsg-0ubuntu2) ...\n",
            "Preparing to unpack .../40-libqt5gui5_5.9.5+dfsg-0ubuntu2.1_amd64.deb ...\n",
            "Unpacking libqt5gui5:amd64 (5.9.5+dfsg-0ubuntu2.1) over (5.9.5+dfsg-0ubuntu2) ...\n",
            "Preparing to unpack .../41-libqt5widgets5_5.9.5+dfsg-0ubuntu2.1_amd64.deb ...\n",
            "Unpacking libqt5widgets5:amd64 (5.9.5+dfsg-0ubuntu2.1) over (5.9.5+dfsg-0ubuntu2) ...\n",
            "Preparing to unpack .../42-libqt5printsupport5_5.9.5+dfsg-0ubuntu2.1_amd64.deb ...\n",
            "Unpacking libqt5printsupport5:amd64 (5.9.5+dfsg-0ubuntu2.1) over (5.9.5+dfsg-0ubuntu2) ...\n",
            "Preparing to unpack .../43-libqt5sql5_5.9.5+dfsg-0ubuntu2.1_amd64.deb ...\n",
            "Unpacking libqt5sql5:amd64 (5.9.5+dfsg-0ubuntu2.1) over (5.9.5+dfsg-0ubuntu2) ...\n",
            "Preparing to unpack .../44-libqt5test5_5.9.5+dfsg-0ubuntu2.1_amd64.deb ...\n",
            "Unpacking libqt5test5:amd64 (5.9.5+dfsg-0ubuntu2.1) over (5.9.5+dfsg-0ubuntu2) ...\n",
            "Preparing to unpack .../45-libqt5xml5_5.9.5+dfsg-0ubuntu2.1_amd64.deb ...\n",
            "Unpacking libqt5xml5:amd64 (5.9.5+dfsg-0ubuntu2.1) over (5.9.5+dfsg-0ubuntu2) ...\n",
            "Preparing to unpack .../46-qt5-qmake_5.9.5+dfsg-0ubuntu2.1_amd64.deb ...\n",
            "Unpacking qt5-qmake:amd64 (5.9.5+dfsg-0ubuntu2.1) over (5.9.5+dfsg-0ubuntu2) ...\n",
            "Preparing to unpack .../47-qt5-qmake-bin_5.9.5+dfsg-0ubuntu2.1_amd64.deb ...\n",
            "Unpacking qt5-qmake-bin (5.9.5+dfsg-0ubuntu2.1) over (5.9.5+dfsg-0ubuntu2) ...\n",
            "Preparing to unpack .../48-qtbase5-dev-tools_5.9.5+dfsg-0ubuntu2.1_amd64.deb ...\n",
            "Unpacking qtbase5-dev-tools (5.9.5+dfsg-0ubuntu2.1) over (5.9.5+dfsg-0ubuntu2) ...\n",
            "Preparing to unpack .../49-libqt5concurrent5_5.9.5+dfsg-0ubuntu2.1_amd64.deb ...\n",
            "Unpacking libqt5concurrent5:amd64 (5.9.5+dfsg-0ubuntu2.1) over (5.9.5+dfsg-0ubuntu2) ...\n",
            "Preparing to unpack .../50-libsndfile1-dev_1.0.28-4ubuntu0.18.04.1_amd64.deb ...\n",
            "Unpacking libsndfile1-dev (1.0.28-4ubuntu0.18.04.1) over (1.0.28-4) ...\n",
            "Preparing to unpack .../51-libsndfile1_1.0.28-4ubuntu0.18.04.1_amd64.deb ...\n",
            "Unpacking libsndfile1:amd64 (1.0.28-4ubuntu0.18.04.1) over (1.0.28-4) ...\n",
            "Selecting previously unselected package linux-headers-4.15.0-51.\n",
            "Preparing to unpack .../52-linux-headers-4.15.0-51_4.15.0-51.55_all.deb ...\n",
            "Unpacking linux-headers-4.15.0-51 (4.15.0-51.55) ...\n",
            "Selecting previously unselected package linux-headers-4.15.0-51-generic.\n",
            "Preparing to unpack .../53-linux-headers-4.15.0-51-generic_4.15.0-51.55_amd64.deb ...\n",
            "Unpacking linux-headers-4.15.0-51-generic (4.15.0-51.55) ...\n",
            "Preparing to unpack .../54-linux-headers-generic_4.15.0.51.53_amd64.deb ...\n",
            "Unpacking linux-headers-generic (4.15.0.51.53) over (4.15.0.50.52) ...\n",
            "Preparing to unpack .../55-linux-libc-dev_4.15.0-51.55_amd64.deb ...\n",
            "Unpacking linux-libc-dev:amd64 (4.15.0-51.55) over (4.15.0-50.54) ...\n",
            "Preparing to unpack .../56-r-cran-littler_0.3.8-1bionic0_amd64.deb ...\n",
            "Unpacking r-cran-littler (0.3.8-1bionic0) over (0.3.7-2bionic0) ...\n",
            "Preparing to unpack .../57-littler_0.3.8-1bionic0_all.deb ...\n",
            "Unpacking littler (0.3.8-1bionic0) over (0.3.7-2bionic0) ...\n",
            "Preparing to unpack .../58-python-tk_2.7.16-2~18.04_amd64.deb ...\n",
            "Unpacking python-tk (2.7.16-2~18.04) over (2.7.15~rc1-1) ...\n",
            "Preparing to unpack .../59-qt5-default_5.9.5+dfsg-0ubuntu2.1_amd64.deb ...\n",
            "Unpacking qt5-default:amd64 (5.9.5+dfsg-0ubuntu2.1) over (5.9.5+dfsg-0ubuntu2) ...\n",
            "Preparing to unpack .../60-r-cran-cluster_2.0.9-1bionic0_amd64.deb ...\n",
            "Unpacking r-cran-cluster (2.0.9-1bionic0) over (2.0.8-1bionic0) ...\n",
            "Preparing to unpack .../61-r-cran-pillar_1.4.1-1cran1ppabionic0_all.deb ...\n",
            "Unpacking r-cran-pillar (1.4.1-1cran1ppabionic0) over (1.4.0-1cran1ppabionic0) ...\n",
            "Preparing to unpack .../62-r-cran-tibble_2.1.3-1cran1ppabionic0_amd64.deb ...\n",
            "Unpacking r-cran-tibble (2.1.3-1cran1ppabionic0) over (2.1.1-1cran1ppabionic0) ...\n",
            "Preparing to unpack .../63-r-cran-dbplyr_1.4.1-1cran1ppabionic0_all.deb ...\n",
            "Unpacking r-cran-dbplyr (1.4.1-1cran1ppabionic0) over (1.4.0-1cran1ppabionic0) ...\n",
            "Preparing to unpack .../64-r-cran-evaluate_0.14-1cran1ppabionic0_all.deb ...\n",
            "Unpacking r-cran-evaluate (0.14-1cran1ppabionic0) over (0.13-1cran1ppabionic0) ...\n",
            "Preparing to unpack .../65-r-cran-openssl_1.4-1cran1ppabionic0_amd64.deb ...\n",
            "Unpacking r-cran-openssl (1.4-1cran1ppabionic0) over (1.3-1cran1ppabionic0) ...\n",
            "Setting up libglvnd0:amd64 (1.0.0-2ubuntu2.3) ...\n",
            "Setting up libopengl0:amd64 (1.0.0-2ubuntu2.3) ...\n",
            "Setting up libapt-inst2.0:amd64 (1.6.11) ...\n",
            "Setting up libgles1:amd64 (1.0.0-2ubuntu2.3) ...\n",
            "Processing triggers for mime-support (3.60ubuntu1) ...\n",
            "Setting up qt5-qmake-bin (5.9.5+dfsg-0ubuntu2.1) ...\n",
            "Setting up apt-utils (1.6.11) ...\n",
            "Setting up libelf1:amd64 (0.170-0.4ubuntu0.1) ...\n",
            "Setting up libglib2.0-0:amd64 (2.56.4-0ubuntu0.18.04.3) ...\n",
            "Setting up linux-libc-dev:amd64 (4.15.0-51.55) ...\n",
            "Setting up r-cran-littler (0.3.8-1bionic0) ...\n",
            "Setting up littler (0.3.8-1bionic0) ...\n",
            "Setting up r-cran-evaluate (0.14-1cran1ppabionic0) ...\n",
            "Setting up libsndfile1:amd64 (1.0.28-4ubuntu0.18.04.1) ...\n",
            "Setting up libegl1:amd64 (1.0.0-2ubuntu2.3) ...\n",
            "Setting up libglib2.0-data (2.56.4-0ubuntu0.18.04.3) ...\n",
            "Setting up qt5-qmake:amd64 (5.9.5+dfsg-0ubuntu2.1) ...\n",
            "Setting up linux-headers-4.15.0-51 (4.15.0-51.55) ...\n",
            "Processing triggers for libc-bin (2.27-3ubuntu1) ...\n",
            "Setting up udev (237-3ubuntu10.22) ...\n",
            "invoke-rc.d: could not determine current runlevel\n",
            "invoke-rc.d: policy-rc.d denied execution of restart.\n",
            "Setting up libssl1.1:amd64 (1.1.1-1ubuntu2.1~18.04.1) ...\n",
            "Setting up systemd (237-3ubuntu10.22) ...\n",
            "Setting up openssl (1.1.1-1ubuntu2.1~18.04.1) ...\n",
            "Installing new version of config file /etc/ssl/openssl.cnf ...\n",
            "Setting up libgles2:amd64 (1.0.0-2ubuntu2.3) ...\n",
            "Processing triggers for man-db (2.8.3-2ubuntu0.1) ...\n",
            "Setting up r-cran-pillar (1.4.1-1cran1ppabionic0) ...\n",
            "Setting up python3-tk:amd64 (3.6.8-1~18.04) ...\n",
            "Setting up libpython2.7-minimal:amd64 (2.7.15-4ubuntu4~18.04) ...\n",
            "Setting up python3-lib2to3 (3.6.8-1~18.04) ...\n",
            "Setting up python-tk (2.7.16-2~18.04) ...\n",
            "Setting up libglx0:amd64 (1.0.0-2ubuntu2.3) ...\n",
            "Setting up libglib2.0-bin (2.56.4-0ubuntu0.18.04.3) ...\n",
            "Setting up libglvnd-core-dev:amd64 (1.0.0-2ubuntu2.3) ...\n",
            "Setting up python3-distutils (3.6.8-1~18.04) ...\n",
            "Setting up libpython2.7-stdlib:amd64 (2.7.15-4ubuntu4~18.04) ...\n",
            "Setting up libdbus-1-3:amd64 (1.12.2-1ubuntu1.1) ...\n",
            "Setting up r-cran-cluster (2.0.9-1bionic0) ...\n",
            "Setting up python2.7-minimal (2.7.15-4ubuntu4~18.04) ...\n",
            "Setting up libcups2:amd64 (2.2.7-1ubuntu2.6) ...\n",
            "Setting up libqt5core5a:amd64 (5.9.5+dfsg-0ubuntu2.1) ...\n",
            "Setting up r-cran-tibble (2.1.3-1cran1ppabionic0) ...\n",
            "Setting up libqt5dbus5:amd64 (5.9.5+dfsg-0ubuntu2.1) ...\n",
            "Setting up libsndfile1-dev (1.0.28-4ubuntu0.18.04.1) ...\n",
            "Setting up r-cran-openssl (1.4-1cran1ppabionic0) ...\n",
            "Setting up libqt5network5:amd64 (5.9.5+dfsg-0ubuntu2.1) ...\n",
            "Setting up linux-headers-4.15.0-51-generic (4.15.0-51.55) ...\n",
            "Setting up libglib2.0-dev-bin (2.56.4-0ubuntu0.18.04.3) ...\n",
            "Setting up systemd-sysv (237-3ubuntu10.22) ...\n",
            "Setting up libssl-dev:amd64 (1.1.1-1ubuntu2.1~18.04.1) ...\n",
            "Setting up libqt5test5:amd64 (5.9.5+dfsg-0ubuntu2.1) ...\n",
            "Setting up python2.7 (2.7.15-4ubuntu4~18.04) ...\n",
            "Setting up libglib2.0-dev:amd64 (2.56.4-0ubuntu0.18.04.3) ...\n",
            "Setting up libpython3.6-minimal:amd64 (3.6.8-1~18.04.1) ...\n",
            "Setting up libqt5xml5:amd64 (5.9.5+dfsg-0ubuntu2.1) ...\n",
            "Setting up libpython2.7:amd64 (2.7.15-4ubuntu4~18.04) ...\n",
            "Setting up libqt5sql5:amd64 (5.9.5+dfsg-0ubuntu2.1) ...\n",
            "Setting up libgl1:amd64 (1.0.0-2ubuntu2.3) ...\n",
            "Setting up libpython2.7-dev:amd64 (2.7.15-4ubuntu4~18.04) ...\n",
            "Setting up dbus (1.12.2-1ubuntu1.1) ...\n",
            "Setting up r-cran-dbplyr (1.4.1-1cran1ppabionic0) ...\n",
            "Setting up python2.7-dev (2.7.15-4ubuntu4~18.04) ...\n",
            "Setting up libqt5concurrent5:amd64 (5.9.5+dfsg-0ubuntu2.1) ...\n",
            "Setting up linux-headers-generic (4.15.0.51.53) ...\n",
            "Setting up libpython3.6-stdlib:amd64 (3.6.8-1~18.04.1) ...\n",
            "Setting up qtbase5-dev-tools (5.9.5+dfsg-0ubuntu2.1) ...\n",
            "Setting up libpam-systemd:amd64 (237-3ubuntu10.22) ...\n",
            "Setting up python3.6-minimal (3.6.8-1~18.04.1) ...\n",
            "Setting up libglvnd-dev:amd64 (1.0.0-2ubuntu2.3) ...\n",
            "Setting up libqt5gui5:amd64 (5.9.5+dfsg-0ubuntu2.1) ...\n",
            "Setting up libpython3.6:amd64 (3.6.8-1~18.04.1) ...\n",
            "Setting up python3.6 (3.6.8-1~18.04.1) ...\n",
            "Setting up libqt5widgets5:amd64 (5.9.5+dfsg-0ubuntu2.1) ...\n",
            "Setting up libqt5printsupport5:amd64 (5.9.5+dfsg-0ubuntu2.1) ...\n",
            "Setting up libpython3.6-dev:amd64 (3.6.8-1~18.04.1) ...\n",
            "Setting up python3.6-dev (3.6.8-1~18.04.1) ...\n",
            "Setting up qtbase5-dev:amd64 (5.9.5+dfsg-0ubuntu2.1) ...\n",
            "Setting up qt5-default:amd64 (5.9.5+dfsg-0ubuntu2.1) ...\n",
            "Processing triggers for libc-bin (2.27-3ubuntu1) ...\n",
            "Reading package lists... Done\n",
            "Building dependency tree       \n",
            "Reading state information... Done\n",
            "gdal-bin is already the newest version (2.2.3+dfsg-2).\n",
            "python-gdal is already the newest version (2.2.3+dfsg-2).\n",
            "python3-gdal is already the newest version (2.2.3+dfsg-2).\n",
            "The following packages were automatically installed and are no longer required:\n",
            "  libnvidia-common-410 linux-headers-4.15.0-50 linux-headers-4.15.0-50-generic\n",
            "Use 'apt autoremove' to remove them.\n",
            "0 upgraded, 0 newly installed, 0 to remove and 4 not upgraded.\n",
            "Reading package lists... Done\n",
            "Building dependency tree       \n",
            "Reading state information... Done\n",
            "The following packages were automatically installed and are no longer required:\n",
            "  libnvidia-common-410 linux-headers-4.15.0-50 linux-headers-4.15.0-50-generic\n",
            "Use 'apt autoremove' to remove them.\n",
            "The following additional packages will be installed:\n",
            "  libspatialindex-c4v5 libspatialindex-dev libspatialindex4v5\n",
            "  python3-pkg-resources\n",
            "Suggested packages:\n",
            "  python3-setuptools\n",
            "The following NEW packages will be installed:\n",
            "  libspatialindex-c4v5 libspatialindex-dev libspatialindex4v5\n",
            "  python3-pkg-resources python3-rtree\n",
            "0 upgraded, 5 newly installed, 0 to remove and 4 not upgraded.\n",
            "Need to get 671 kB of archives.\n",
            "After this operation, 3,948 kB of additional disk space will be used.\n",
            "Get:1 http://archive.ubuntu.com/ubuntu bionic/universe amd64 libspatialindex4v5 amd64 1.8.5-5 [219 kB]\n",
            "Get:2 http://archive.ubuntu.com/ubuntu bionic/universe amd64 libspatialindex-c4v5 amd64 1.8.5-5 [51.7 kB]\n",
            "Get:3 http://archive.ubuntu.com/ubuntu bionic/main amd64 python3-pkg-resources all 39.0.1-2 [98.8 kB]\n",
            "Get:4 http://archive.ubuntu.com/ubuntu bionic/universe amd64 libspatialindex-dev amd64 1.8.5-5 [285 kB]\n",
            "Get:5 http://archive.ubuntu.com/ubuntu bionic/universe amd64 python3-rtree all 0.8.3+ds-1 [16.9 kB]\n",
            "Fetched 671 kB in 1s (554 kB/s)\n",
            "Selecting previously unselected package libspatialindex4v5:amd64.\n",
            "(Reading database ... 160337 files and directories currently installed.)\n",
            "Preparing to unpack .../libspatialindex4v5_1.8.5-5_amd64.deb ...\n",
            "Unpacking libspatialindex4v5:amd64 (1.8.5-5) ...\n",
            "Selecting previously unselected package libspatialindex-c4v5:amd64.\n",
            "Preparing to unpack .../libspatialindex-c4v5_1.8.5-5_amd64.deb ...\n",
            "Unpacking libspatialindex-c4v5:amd64 (1.8.5-5) ...\n",
            "Selecting previously unselected package python3-pkg-resources.\n",
            "Preparing to unpack .../python3-pkg-resources_39.0.1-2_all.deb ...\n",
            "Unpacking python3-pkg-resources (39.0.1-2) ...\n",
            "Selecting previously unselected package libspatialindex-dev:amd64.\n",
            "Preparing to unpack .../libspatialindex-dev_1.8.5-5_amd64.deb ...\n",
            "Unpacking libspatialindex-dev:amd64 (1.8.5-5) ...\n",
            "Selecting previously unselected package python3-rtree.\n",
            "Preparing to unpack .../python3-rtree_0.8.3+ds-1_all.deb ...\n",
            "Unpacking python3-rtree (0.8.3+ds-1) ...\n",
            "Setting up libspatialindex4v5:amd64 (1.8.5-5) ...\n",
            "Setting up python3-pkg-resources (39.0.1-2) ...\n",
            "Setting up libspatialindex-c4v5:amd64 (1.8.5-5) ...\n",
            "Processing triggers for libc-bin (2.27-3ubuntu1) ...\n",
            "Setting up libspatialindex-dev:amd64 (1.8.5-5) ...\n",
            "Setting up python3-rtree (0.8.3+ds-1) ...\n",
            "Collecting git+git://github.com/geopandas/geopandas.git\n",
            "  Cloning git://github.com/geopandas/geopandas.git to /tmp/pip-req-build-dq9rpjim\n",
            "  Running command git clone -q git://github.com/geopandas/geopandas.git /tmp/pip-req-build-dq9rpjim\n",
            "Requirement already satisfied: pandas>=0.23.0 in /usr/local/lib/python3.6/dist-packages (from geopandas==0.5.0+10.gcc3d2a3) (0.24.2)\n",
            "Requirement already satisfied: shapely in /usr/local/lib/python3.6/dist-packages (from geopandas==0.5.0+10.gcc3d2a3) (1.6.4.post2)\n",
            "Requirement already satisfied: fiona in /usr/local/lib/python3.6/dist-packages (from geopandas==0.5.0+10.gcc3d2a3) (1.8.6)\n",
            "Requirement already satisfied: pyproj in /usr/local/lib/python3.6/dist-packages (from geopandas==0.5.0+10.gcc3d2a3) (2.2.0)\n",
            "Requirement already satisfied: pytz>=2011k in /usr/local/lib/python3.6/dist-packages (from pandas>=0.23.0->geopandas==0.5.0+10.gcc3d2a3) (2018.9)\n",
            "Requirement already satisfied: numpy>=1.12.0 in /usr/local/lib/python3.6/dist-packages (from pandas>=0.23.0->geopandas==0.5.0+10.gcc3d2a3) (1.16.4)\n",
            "Requirement already satisfied: python-dateutil>=2.5.0 in /usr/local/lib/python3.6/dist-packages (from pandas>=0.23.0->geopandas==0.5.0+10.gcc3d2a3) (2.5.3)\n",
            "Requirement already satisfied: attrs>=17 in /usr/local/lib/python3.6/dist-packages (from fiona->geopandas==0.5.0+10.gcc3d2a3) (19.1.0)\n",
            "Requirement already satisfied: cligj>=0.5 in /usr/local/lib/python3.6/dist-packages (from fiona->geopandas==0.5.0+10.gcc3d2a3) (0.5.0)\n",
            "Requirement already satisfied: click-plugins>=1.0 in /usr/local/lib/python3.6/dist-packages (from fiona->geopandas==0.5.0+10.gcc3d2a3) (1.1.1)\n",
            "Requirement already satisfied: click<8,>=4.0 in /usr/local/lib/python3.6/dist-packages (from fiona->geopandas==0.5.0+10.gcc3d2a3) (7.0)\n",
            "Requirement already satisfied: munch in /usr/local/lib/python3.6/dist-packages (from fiona->geopandas==0.5.0+10.gcc3d2a3) (2.3.2)\n",
            "Requirement already satisfied: six>=1.7 in /usr/local/lib/python3.6/dist-packages (from fiona->geopandas==0.5.0+10.gcc3d2a3) (1.12.0)\n",
            "Building wheels for collected packages: geopandas\n",
            "  Building wheel for geopandas (setup.py) ... \u001b[?25l\u001b[?25hdone\n",
            "  Stored in directory: /tmp/pip-ephem-wheel-cache-nuckb9jn/wheels/91/24/71/376c9c67192694168352afcccc2d264248f7e2cc6192997186\n",
            "Successfully built geopandas\n",
            "Installing collected packages: geopandas\n",
            "  Found existing installation: geopandas 0.5.0\n",
            "    Uninstalling geopandas-0.5.0:\n",
            "      Successfully uninstalled geopandas-0.5.0\n",
            "Successfully installed geopandas-0.5.0+10.gcc3d2a3\n"
          ],
          "name": "stdout"
        },
        {
          "output_type": "display_data",
          "data": {
            "application/vnd.colab-display-data+json": {
              "pip_warning": {
                "packages": [
                  "geopandas"
                ]
              }
            }
          },
          "metadata": {
            "tags": []
          }
        },
        {
          "output_type": "stream",
          "text": [
            "Collecting descartes\n",
            "  Downloading https://files.pythonhosted.org/packages/e5/b6/1ed2eb03989ae574584664985367ba70cd9cf8b32ee8cad0e8aaeac819f3/descartes-1.1.0-py3-none-any.whl\n",
            "Requirement already satisfied: matplotlib in /usr/local/lib/python3.6/dist-packages (from descartes) (3.0.3)\n",
            "Requirement already satisfied: cycler>=0.10 in /usr/local/lib/python3.6/dist-packages (from matplotlib->descartes) (0.10.0)\n",
            "Requirement already satisfied: python-dateutil>=2.1 in /usr/local/lib/python3.6/dist-packages (from matplotlib->descartes) (2.5.3)\n",
            "Requirement already satisfied: kiwisolver>=1.0.1 in /usr/local/lib/python3.6/dist-packages (from matplotlib->descartes) (1.1.0)\n",
            "Requirement already satisfied: pyparsing!=2.0.4,!=2.1.2,!=2.1.6,>=2.0.1 in /usr/local/lib/python3.6/dist-packages (from matplotlib->descartes) (2.4.0)\n",
            "Requirement already satisfied: numpy>=1.10.0 in /usr/local/lib/python3.6/dist-packages (from matplotlib->descartes) (1.16.4)\n",
            "Requirement already satisfied: six in /usr/local/lib/python3.6/dist-packages (from cycler>=0.10->matplotlib->descartes) (1.12.0)\n",
            "Requirement already satisfied: setuptools in /usr/local/lib/python3.6/dist-packages (from kiwisolver>=1.0.1->matplotlib->descartes) (41.0.1)\n",
            "Installing collected packages: descartes\n",
            "Successfully installed descartes-1.1.0\n",
            "CPU times: user 1.72 s, sys: 290 ms, total: 2.01 s\n",
            "Wall time: 4min 15s\n"
          ],
          "name": "stdout"
        }
      ]
    },
    {
      "cell_type": "markdown",
      "metadata": {
        "id": "q5bJUy29033P",
        "colab_type": "text"
      },
      "source": [
        "Demonstrate one way to find points within a shape using a mixture of geojson (from a shape file) and csv with coordinates are a string (from csv.)"
      ]
    },
    {
      "cell_type": "markdown",
      "metadata": {
        "id": "CwXGGiN0033Q",
        "colab_type": "text"
      },
      "source": [
        "Using geopandas to read geojson, pandas to read csv, and shapely to convert x y coordinates to a geometry point."
      ]
    },
    {
      "cell_type": "code",
      "metadata": {
        "id": "uDIbQp4O033R",
        "colab_type": "code",
        "colab": {}
      },
      "source": [
        "import geopandas as gpd\n",
        "import pandas as pd\n",
        "from shapely.geometry import Point"
      ],
      "execution_count": 0,
      "outputs": []
    },
    {
      "cell_type": "code",
      "metadata": {
        "id": "8RqIJzjZ033U",
        "colab_type": "code",
        "colab": {}
      },
      "source": [
        "%matplotlib inline"
      ],
      "execution_count": 0,
      "outputs": []
    },
    {
      "cell_type": "markdown",
      "metadata": {
        "id": "SOincvet033X",
        "colab_type": "text"
      },
      "source": [
        "Using Region of Waterloo's Open Data Cities and Towns dataset from:\n",
        "https://open-kitchenergis.opendata.arcgis.com/datasets/RMW::cities-and-towns"
      ]
    },
    {
      "cell_type": "code",
      "metadata": {
        "id": "xzzHlm4a033Y",
        "colab_type": "code",
        "colab": {}
      },
      "source": [
        "region = gpd.read_file('https://opendata.arcgis.com/datasets/b039c8ffa93841cd8add31ef7f10f4cb_16.geojson')"
      ],
      "execution_count": 0,
      "outputs": []
    },
    {
      "cell_type": "code",
      "metadata": {
        "id": "nE005vd7033b",
        "colab_type": "code",
        "outputId": "78676a7d-e35a-4595-be16-690ab8dd3e57",
        "colab": {
          "base_uri": "https://localhost:8080/",
          "height": 260
        }
      },
      "source": [
        "region_plot = region.plot(color='yellow', edgecolor='green')"
      ],
      "execution_count": 0,
      "outputs": [
        {
          "output_type": "display_data",
          "data": {
            "image/png": "[encoded data removed]",
            "text/plain": [
              "<Figure size 432x288 with 1 Axes>"
            ]
          },
          "metadata": {
            "tags": []
          }
        }
      ]
    },
    {
      "cell_type": "markdown",
      "metadata": {
        "id": "1f8R4r4Z033g",
        "colab_type": "text"
      },
      "source": [
        "Set the coordinate reference system (This is noted in the dataset geojson)"
      ]
    },
    {
      "cell_type": "code",
      "metadata": {
        "id": "AjnR5cAn033g",
        "colab_type": "code",
        "colab": {}
      },
      "source": [
        "region = region.to_crs({'init': 'epsg:26917'})"
      ],
      "execution_count": 0,
      "outputs": []
    },
    {
      "cell_type": "code",
      "metadata": {
        "id": "zDS4tGro033j",
        "colab_type": "code",
        "outputId": "db4d4e4b-d085-4b9f-eb04-6cb2df1c4c10",
        "colab": {
          "base_uri": "https://localhost:8080/",
          "height": 269
        }
      },
      "source": [
        "region_plot = region.plot(color='yellow', edgecolor='green')"
      ],
      "execution_count": 0,
      "outputs": [
        {
          "output_type": "display_data",
          "data": {
            "image/png": "[encoded data removed]",
            "text/plain": [
              "<Figure size 432x288 with 1 Axes>"
            ]
          },
          "metadata": {
            "tags": []
          }
        }
      ]
    },
    {
      "cell_type": "markdown",
      "metadata": {
        "id": "FOGraM99033m",
        "colab_type": "text"
      },
      "source": [
        "Retain Kitchener shape from Cities and Towns dataset as a geopandas dataframe"
      ]
    },
    {
      "cell_type": "code",
      "metadata": {
        "id": "8XLgR2aL033n",
        "colab_type": "code",
        "colab": {}
      },
      "source": [
        "kitchener = region[region.Municipality == 'City of Kitchener']"
      ],
      "execution_count": 0,
      "outputs": []
    },
    {
      "cell_type": "code",
      "metadata": {
        "id": "LTvb51Vl033p",
        "colab_type": "code",
        "outputId": "b48e1e6d-ce08-43ae-8d5c-7ba925c78cb7",
        "colab": {
          "base_uri": "https://localhost:8080/",
          "height": 269
        }
      },
      "source": [
        "kitchener_plot = kitchener.plot(color='yellow', edgecolor='green')"
      ],
      "execution_count": 0,
      "outputs": [
        {
          "output_type": "display_data",
          "data": {
            "image/png": "[encoded data removed]",
            "text/plain": [
              "<Figure size 432x288 with 1 Axes>"
            ]
          },
          "metadata": {
            "tags": []
          }
        }
      ]
    },
    {
      "cell_type": "markdown",
      "metadata": {
        "id": "Gjdn4Sut033v",
        "colab_type": "text"
      },
      "source": [
        "Using WRPS Open Data Crime Dataset from: https://www.wrps.on.ca/en/about-us/occurrence-data.aspx as a pandas dataframe"
      ]
    },
    {
      "cell_type": "code",
      "metadata": {
        "id": "LRdRrFtL033x",
        "colab_type": "code",
        "colab": {}
      },
      "source": [
        "crime_2017 = pd.read_csv('https://www.wrps.on.ca/en/resourcesGeneral/Occurrence-Data/WRPSOccurrenceData_Year_2017__August_28_2018.csv')"
      ],
      "execution_count": 0,
      "outputs": []
    },
    {
      "cell_type": "markdown",
      "metadata": {
        "id": "A4r-cdIR033z",
        "colab_type": "text"
      },
      "source": [
        "Turn Geographic Location string into x y columns."
      ]
    },
    {
      "cell_type": "code",
      "metadata": {
        "id": "vkCtbTj30330",
        "colab_type": "code",
        "colab": {}
      },
      "source": [
        "crime_2017['x'] = pd.to_numeric(crime_2017['Geographic Location'].str.split(' ,').str[0])\n",
        "crime_2017['y'] = pd.to_numeric(crime_2017['Geographic Location'].str.split(' ,').str[1])"
      ],
      "execution_count": 0,
      "outputs": []
    },
    {
      "cell_type": "markdown",
      "metadata": {
        "id": "B9Tm08FK0332",
        "colab_type": "text"
      },
      "source": [
        "Create the crime geopandas dataframe from the pandas dataframe with geometry from the x y columns."
      ]
    },
    {
      "cell_type": "code",
      "metadata": {
        "id": "9zATeTMC0333",
        "colab_type": "code",
        "colab": {}
      },
      "source": [
        "crime = gpd.GeoDataFrame(\n",
        "    crime_2017.drop(['Geographic Location'], axis=1),\n",
        "    crs={'init': 'epsg:26917'},\n",
        "    geometry=[Point(xy) for xy in zip(crime_2017.x, crime_2017.y)])"
      ],
      "execution_count": 0,
      "outputs": []
    },
    {
      "cell_type": "code",
      "metadata": {
        "id": "nMM6S5WE0335",
        "colab_type": "code",
        "outputId": "b1c2fafa-1b07-4480-d9c2-966fac240283",
        "colab": {
          "base_uri": "https://localhost:8080/",
          "height": 269
        }
      },
      "source": [
        "crime_plot = crime.plot(marker='o', color='red', markersize=3)"
      ],
      "execution_count": 0,
      "outputs": [
        {
          "output_type": "display_data",
          "data": {
            "image/png": "[encoded data removed]",
            "text/plain": [
              "<Figure size 432x288 with 1 Axes>"
            ]
          },
          "metadata": {
            "tags": []
          }
        }
      ]
    },
    {
      "cell_type": "markdown",
      "metadata": {
        "id": "wDaFYriH0338",
        "colab_type": "text"
      },
      "source": [
        "Join datasets together, keeping points within Kitchener shape"
      ]
    },
    {
      "cell_type": "code",
      "metadata": {
        "id": "4Uy7vIOg0338",
        "colab_type": "code",
        "colab": {}
      },
      "source": [
        "kitchener_crimes_2017 = gpd.sjoin(crime, kitchener, how='inner', op='within')"
      ],
      "execution_count": 0,
      "outputs": []
    },
    {
      "cell_type": "code",
      "metadata": {
        "id": "jf5pobcf034A",
        "colab_type": "code",
        "outputId": "44df27d8-ab56-4230-a3a3-4164acf895b8",
        "colab": {
          "base_uri": "https://localhost:8080/",
          "height": 269
        }
      },
      "source": [
        "kitchener_crimes_2017_plot = kitchener_crimes_2017.plot(marker='o', color='red', markersize=3)"
      ],
      "execution_count": 0,
      "outputs": [
        {
          "output_type": "display_data",
          "data": {
            "image/png": "[encoded data removed]",
            "text/plain": [
              "<Figure size 432x288 with 1 Axes>"
            ]
          },
          "metadata": {
            "tags": []
          }
        }
      ]
    },
    {
      "cell_type": "code",
      "metadata": {
        "id": "CjwvCfL3034D",
        "colab_type": "code",
        "outputId": "03238a34-1465-44b9-ccf9-371ec0b291a1",
        "colab": {
          "base_uri": "https://localhost:8080/",
          "height": 269
        }
      },
      "source": [
        "kitchener_plot = kitchener.plot(color='yellow', edgecolor='green')\n",
        "kitchener_crimes_2017_plot_alt = kitchener_crimes_2017.plot(ax=kitchener_plot, marker='o', color='red', markersize=3)"
      ],
      "execution_count": 0,
      "outputs": [
        {
          "output_type": "display_data",
          "data": {
            "image/png": "[encoded data removed]",
            "text/plain": [
              "<Figure size 432x288 with 1 Axes>"
            ]
          },
          "metadata": {
            "tags": []
          }
        }
      ]
    },
    {
      "cell_type": "code",
      "metadata": {
        "id": "MLJ-nvIl034K",
        "colab_type": "code",
        "colab": {}
      },
      "source": [
        ""
      ],
      "execution_count": 0,
      "outputs": []
    }
  ]
}